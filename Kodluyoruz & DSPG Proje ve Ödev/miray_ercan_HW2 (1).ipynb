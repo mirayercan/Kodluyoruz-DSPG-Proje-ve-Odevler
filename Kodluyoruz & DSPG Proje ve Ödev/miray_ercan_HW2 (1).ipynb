{
 "cells": [
  {
   "cell_type": "markdown",
   "metadata": {},
   "source": [
    "## 1) Power(Iterative):\n",
    "\n",
    "Write a program that calculates n'th power of a given number iteratively"
   ]
  },
  {
   "cell_type": "code",
   "execution_count": 15,
   "metadata": {},
   "outputs": [
    {
     "name": "stdout",
     "output_type": "stream",
     "text": [
      "2\n",
      "0\n",
      "1\n"
     ]
    }
   ],
   "source": [
    "def iter_power(x, n): # It sould return x^n, and yes you cannot use x**n for this problem -_-\n",
    "    a=1\n",
    "    while(n>0):\n",
    "         if((n& 1) == 1):\n",
    "            a=a*x\n",
    "            n=n>>1\n",
    "            x=x*x     \n",
    "    return a\n",
    "x=int(input())\n",
    "n=int(input())\n",
    "print(iter_power(x,n))"
   ]
  },
  {
   "cell_type": "markdown",
   "metadata": {},
   "source": [
    "## 2) Power(Recursive):\n",
    "\n",
    "Write a program that calculates n'th power of a given number recursively"
   ]
  },
  {
   "cell_type": "code",
   "execution_count": 18,
   "metadata": {},
   "outputs": [],
   "source": [
    "def recur_power(x, n): \n",
    "    a=1\n",
    "    if(n==0):\n",
    "        return a\n",
    "    elif(n>0):\n",
    "        return x*recur_power(x,n-1)\n",
    "        "
   ]
  },
  {
   "cell_type": "code",
   "execution_count": 21,
   "metadata": {},
   "outputs": [
    {
     "name": "stdout",
     "output_type": "stream",
     "text": [
      "2\n",
      "3\n"
     ]
    },
    {
     "data": {
      "text/plain": [
       "8"
      ]
     },
     "execution_count": 21,
     "metadata": {},
     "output_type": "execute_result"
    }
   ],
   "source": [
    "x=int(input())\n",
    "n=int(input())\n",
    "recur_power(x,n)"
   ]
  },
  {
   "cell_type": "markdown",
   "metadata": {},
   "source": [
    "### 3) Key with the maximum number of values:\n",
    "\n",
    "Given dictionary d, return a key that has a maximum value associated with it\n",
    "\n",
    "for example if d = {\"a\":[1,2,3], \"b\":[45,43,21,23], \"c\":[3,4,5]}\n",
    "\n",
    "it should return \"b\""
   ]
  },
  {
   "cell_type": "code",
   "execution_count": 118,
   "metadata": {},
   "outputs": [],
   "source": [
    "def max_key(d):\n",
    "    max_key = max(d, key=d.get)\n",
    "    print(max_key)"
   ]
  },
  {
   "cell_type": "code",
   "execution_count": 119,
   "metadata": {},
   "outputs": [
    {
     "name": "stdout",
     "output_type": "stream",
     "text": [
      "b\n"
     ]
    }
   ],
   "source": [
    "d ={\"a\":[1,2,3],\"b\":[45,43,21,23],\"c\":[3,4,5]}\n",
    "max_key(d)"
   ]
  },
  {
   "cell_type": "markdown",
   "metadata": {},
   "source": [
    "### 4) Fibonacci serisini recursive olarak dictionary kullanarak yapmak \n",
    "\n",
    "fib(2) yi bir kere hesapladıysa başka bir function call'da bir daha hesaplamasın değerini dictionaryden bulup koysun gibi\n",
    "\n"
   ]
  },
  {
   "cell_type": "code",
   "execution_count": 17,
   "metadata": {},
   "outputs": [
    {
     "name": "stdout",
     "output_type": "stream",
     "text": [
      "6\n",
      "{0: 0, 1: 1, 2: 1, 3: 2, 4: 3, 5: 5, 6: 8}\n"
     ]
    }
   ],
   "source": [
    "F={0:0,1:1}\n",
    "def look():\n",
    "    if (n==F):\n",
    "        print(F)\n",
    "    elif (n!=F):\n",
    "        fib(n)\n",
    "        \n",
    "def fib(n):\n",
    "     if(n==0):\n",
    "       return 0\n",
    "     if(n==1):\n",
    "       return 1\n",
    "     else:\n",
    "          for i in range(2, n+1):\n",
    "                F[i]=F[i-1]+F[i-2]\n",
    "          return(F)\n",
    "n=int(input())    \n",
    "print(fib(n))"
   ]
  },
  {
   "cell_type": "code",
   "execution_count": null,
   "metadata": {},
   "outputs": [],
   "source": []
  },
  {
   "cell_type": "code",
   "execution_count": null,
   "metadata": {},
   "outputs": [],
   "source": []
  }
 ],
 "metadata": {
  "kernelspec": {
   "display_name": "Python 3",
   "language": "python",
   "name": "python3"
  },
  "language_info": {
   "codemirror_mode": {
    "name": "ipython",
    "version": 3
   },
   "file_extension": ".py",
   "mimetype": "text/x-python",
   "name": "python",
   "nbconvert_exporter": "python",
   "pygments_lexer": "ipython3",
   "version": "3.8.3"
  }
 },
 "nbformat": 4,
 "nbformat_minor": 2
}
