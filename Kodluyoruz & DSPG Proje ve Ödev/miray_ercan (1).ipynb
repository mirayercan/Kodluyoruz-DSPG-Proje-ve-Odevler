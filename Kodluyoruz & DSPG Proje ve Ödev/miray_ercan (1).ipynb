{
 "cells": [
  {
   "cell_type": "markdown",
   "metadata": {},
   "source": [
    " QUESTION 1"
   ]
  },
  {
   "cell_type": "code",
   "execution_count": 2,
   "metadata": {},
   "outputs": [
    {
     "name": "stdout",
     "output_type": "stream",
     "text": [
      "[[12, 11, 13, 14], [22, 21, 23, 24], [32, 31, 33, 34]]\n"
     ]
    }
   ],
   "source": [
    "\n",
    "M=[[11, 12, 13, 14], [21, 22, 23, 24], [31, 32, 33, 34]]\n",
    "\n",
    "#print(M[b][l])\n",
    "b=0\n",
    "for b in range(len(M)):\n",
    "    M[b][0],M[b][1]=M[b][1],M[b][0]\n",
    "print(M)        "
   ]
  },
  {
   "cell_type": "markdown",
   "metadata": {},
   "source": [
    "QUESTION 2"
   ]
  },
  {
   "cell_type": "code",
   "execution_count": 2,
   "metadata": {},
   "outputs": [
    {
     "name": "stdout",
     "output_type": "stream",
     "text": [
      "(1, 3)\n"
     ]
    }
   ],
   "source": [
    "m= [[0, 3, 2, 4], [2, 7, 5, 9], [6, 1, 2, 3]]\n",
    "a=0\n",
    "\n",
    "for a in range(3):\n",
    "    \n",
    "    if (a==0):\n",
    "        t=(max(m[a]))\n",
    "        e=m[0].index(t)\n",
    "        a=a+1\n",
    "    elif (a==1):\n",
    "        t2=max(m[a])\n",
    "        e2=m[1].index(t2)\n",
    "    elif (a==2):\n",
    "        t3=max(m[a])\n",
    "        e3=m[2].index(t3)\n",
    "mytuple=()\n",
    "\n",
    "if t>t2>t3:\n",
    "    a=a-2\n",
    "    mytuple=mytuple+(a,e)\n",
    "    \n",
    "elif t2>t3>t:\n",
    "    a=a-1\n",
    "    mytuple=mytuple+(a,e2,)\n",
    "elif t3>t2>t:\n",
    "    a=a\n",
    "    mytuple=mytuple+(a,e3)\n",
    "    \n",
    "print(mytuple)            "
   ]
  },
  {
   "cell_type": "markdown",
   "metadata": {},
   "source": [
    "QUESTION 3"
   ]
  },
  {
   "cell_type": "code",
   "execution_count": 3,
   "metadata": {},
   "outputs": [
    {
     "data": {
      "text/plain": [
       "6"
      ]
     },
     "execution_count": 3,
     "metadata": {},
     "output_type": "execute_result"
    }
   ],
   "source": [
    "from collections import Counter\n",
    "list_1 = [5, 3, 3, 10, 40]\n",
    "list_2 = [40, 3, 40, 1, 2]\n",
    "list_3 =list_1 +list_2 \n",
    "\n",
    "L1=Counter(list_3).keys()\n",
    "len(L1)\n",
    "\n"
   ]
  },
  {
   "cell_type": "markdown",
   "metadata": {},
   "source": [
    "QUESTION 4"
   ]
  },
  {
   "cell_type": "code",
   "execution_count": 2,
   "metadata": {},
   "outputs": [
    {
     "name": "stdout",
     "output_type": "stream",
     "text": [
      "Jane 's grade: 90  below the average\n",
      "Pat 's grade: 81  below the average\n",
      "Denis 's grade: 70  below the average\n",
      "Max 's grade: 72  below the average\n",
      "Lara 's grade: 74  below the average\n",
      "mean of all grades: 0.0\n"
     ]
    }
   ],
   "source": [
    "students = {\"Jane\":{\"grade\":90,\"student_number\":4012}, \n",
    "          \"Pat\":{\"grade\":81,\"student_number\":4052},\n",
    "          \"Denis\":{\"grade\":70,\"student_number\":4089},\n",
    "          \"Max\":{\"grade\":72,\"student_number\":4322},\n",
    "          \"Lara\":{\"grade\":74,\"student_number\":4042}}\n",
    "total=[]\n",
    "mean=0\n",
    "total_1=sum(total)    \n",
    "mean_v=total_1/len(students)\n",
    "\n",
    "for i in students:\n",
    "   \n",
    "    total.append(students[i][\"grade\"]) \n",
    "   \n",
    "    if(students[i][\"grade\"]>=mean_v):\n",
    "        print(i,\"'s grade:\", students[i][\"grade\"] , \" below the average\")\n",
    "        \n",
    "    elif(students[i][\"grade\"]==mean_v):\n",
    "        print(i,\"s grade\",students[i][\"grade\"], \" equal the mean\" )\n",
    "    elif(students[i][\"grade\"]<=mean_v):\n",
    "        print(i,\"'s grade:\", students[i][\"grade\"] , \"above the average\")\n",
    "    \n",
    "\n",
    "print(\"mean of all grades:\", mean_v)\n"
   ]
  },
  {
   "cell_type": "markdown",
   "metadata": {},
   "source": [
    "QUESTION 5"
   ]
  },
  {
   "cell_type": "code",
   "execution_count": 1,
   "metadata": {},
   "outputs": [
    {
     "name": "stdout",
     "output_type": "stream",
     "text": [
      "How many do you want to buy?\n",
      "3\n",
      "Minimum :1 \n",
      "Maximum:4\n",
      "\n",
      "17 tickets remaining\n",
      "1 sales transactions\n",
      "How many do you want to buy?\n",
      "4\n",
      "Minimum :1 \n",
      "Maximum:4\n",
      "\n",
      "13 tickets remaining\n",
      "2 sales transactions\n",
      "How many do you want to buy?\n",
      "2\n",
      "Minimum :1 \n",
      "Maximum:4\n",
      "\n",
      "11 tickets remaining\n",
      "3 sales transactions\n",
      "How many do you want to buy?\n",
      "3\n",
      "Minimum :1 \n",
      "Maximum:4\n",
      "\n",
      "8 tickets remaining\n",
      "4 sales transactions\n",
      "How many do you want to buy?\n",
      "2\n",
      "Minimum :1 \n",
      "Maximum:4\n",
      "\n",
      "6 tickets remaining\n",
      "5 sales transactions\n",
      "How many do you want to buy?\n",
      "1\n",
      "Minimum :1 \n",
      "Maximum:4\n",
      "\n",
      "5 tickets remaining\n",
      "6 sales transactions\n",
      "How many do you want to buy?\n",
      "1\n",
      "Minimum :1 \n",
      "Maximum:4\n",
      "\n",
      "4 tickets remaining\n",
      "Minimum :1 \n",
      "Maximum: 4\n",
      "3 tickets remaining\n",
      "7 sales transactions\n",
      "How many do you want to buy?\n",
      "2\n",
      "8 sales transactions\n"
     ]
    },
    {
     "ename": "KeyboardInterrupt",
     "evalue": "Interrupted by user",
     "output_type": "error",
     "traceback": [
      "\u001b[1;31m---------------------------------------------------------------------------\u001b[0m",
      "\u001b[1;31mKeyboardInterrupt\u001b[0m                         Traceback (most recent call last)",
      "\u001b[1;32m<ipython-input-1-e2b081f3ff34>\u001b[0m in \u001b[0;36m<module>\u001b[1;34m\u001b[0m\n\u001b[0;32m      2\u001b[0m \u001b[0mcounter\u001b[0m\u001b[1;33m=\u001b[0m\u001b[1;36m0\u001b[0m\u001b[1;33m\u001b[0m\u001b[1;33m\u001b[0m\u001b[0m\n\u001b[0;32m      3\u001b[0m \u001b[1;32mwhile\u001b[0m \u001b[0mf_ticket\u001b[0m\u001b[1;33m>\u001b[0m\u001b[1;36m0\u001b[0m\u001b[1;33m:\u001b[0m\u001b[1;33m\u001b[0m\u001b[1;33m\u001b[0m\u001b[0m\n\u001b[1;32m----> 4\u001b[1;33m     \u001b[0msold\u001b[0m\u001b[1;33m=\u001b[0m \u001b[0mint\u001b[0m\u001b[1;33m(\u001b[0m\u001b[0minput\u001b[0m\u001b[1;33m(\u001b[0m\u001b[1;34m\"How many do you want to buy?\\n\"\u001b[0m\u001b[1;33m)\u001b[0m\u001b[1;33m)\u001b[0m\u001b[1;33m\u001b[0m\u001b[1;33m\u001b[0m\u001b[0m\n\u001b[0m\u001b[0;32m      5\u001b[0m     \u001b[0mcounter\u001b[0m\u001b[1;33m=\u001b[0m\u001b[0mcounter\u001b[0m\u001b[1;33m+\u001b[0m\u001b[1;36m1\u001b[0m\u001b[1;33m\u001b[0m\u001b[1;33m\u001b[0m\u001b[0m\n\u001b[0;32m      6\u001b[0m     \u001b[1;32mif\u001b[0m \u001b[1;33m(\u001b[0m\u001b[0mf_ticket\u001b[0m\u001b[1;33m>\u001b[0m\u001b[1;36m4\u001b[0m \u001b[1;32mand\u001b[0m \u001b[1;36m1\u001b[0m\u001b[1;33m<=\u001b[0m\u001b[0msold\u001b[0m\u001b[1;33m<=\u001b[0m\u001b[1;36m4\u001b[0m\u001b[1;33m)\u001b[0m\u001b[1;33m:\u001b[0m\u001b[1;33m\u001b[0m\u001b[1;33m\u001b[0m\u001b[0m\n",
      "\u001b[1;32mC:\\ProgramData\\Anaconda3\\lib\\site-packages\\ipykernel\\kernelbase.py\u001b[0m in \u001b[0;36mraw_input\u001b[1;34m(self, prompt)\u001b[0m\n\u001b[0;32m    858\u001b[0m                 \u001b[1;34m\"raw_input was called, but this frontend does not support input requests.\"\u001b[0m\u001b[1;33m\u001b[0m\u001b[1;33m\u001b[0m\u001b[0m\n\u001b[0;32m    859\u001b[0m             )\n\u001b[1;32m--> 860\u001b[1;33m         return self._input_request(str(prompt),\n\u001b[0m\u001b[0;32m    861\u001b[0m             \u001b[0mself\u001b[0m\u001b[1;33m.\u001b[0m\u001b[0m_parent_ident\u001b[0m\u001b[1;33m,\u001b[0m\u001b[1;33m\u001b[0m\u001b[1;33m\u001b[0m\u001b[0m\n\u001b[0;32m    862\u001b[0m             \u001b[0mself\u001b[0m\u001b[1;33m.\u001b[0m\u001b[0m_parent_header\u001b[0m\u001b[1;33m,\u001b[0m\u001b[1;33m\u001b[0m\u001b[1;33m\u001b[0m\u001b[0m\n",
      "\u001b[1;32mC:\\ProgramData\\Anaconda3\\lib\\site-packages\\ipykernel\\kernelbase.py\u001b[0m in \u001b[0;36m_input_request\u001b[1;34m(self, prompt, ident, parent, password)\u001b[0m\n\u001b[0;32m    902\u001b[0m             \u001b[1;32mexcept\u001b[0m \u001b[0mKeyboardInterrupt\u001b[0m\u001b[1;33m:\u001b[0m\u001b[1;33m\u001b[0m\u001b[1;33m\u001b[0m\u001b[0m\n\u001b[0;32m    903\u001b[0m                 \u001b[1;31m# re-raise KeyboardInterrupt, to truncate traceback\u001b[0m\u001b[1;33m\u001b[0m\u001b[1;33m\u001b[0m\u001b[1;33m\u001b[0m\u001b[0m\n\u001b[1;32m--> 904\u001b[1;33m                 \u001b[1;32mraise\u001b[0m \u001b[0mKeyboardInterrupt\u001b[0m\u001b[1;33m(\u001b[0m\u001b[1;34m\"Interrupted by user\"\u001b[0m\u001b[1;33m)\u001b[0m \u001b[1;32mfrom\u001b[0m \u001b[1;32mNone\u001b[0m\u001b[1;33m\u001b[0m\u001b[1;33m\u001b[0m\u001b[0m\n\u001b[0m\u001b[0;32m    905\u001b[0m             \u001b[1;32mexcept\u001b[0m \u001b[0mException\u001b[0m \u001b[1;32mas\u001b[0m \u001b[0me\u001b[0m\u001b[1;33m:\u001b[0m\u001b[1;33m\u001b[0m\u001b[1;33m\u001b[0m\u001b[0m\n\u001b[0;32m    906\u001b[0m                 \u001b[0mself\u001b[0m\u001b[1;33m.\u001b[0m\u001b[0mlog\u001b[0m\u001b[1;33m.\u001b[0m\u001b[0mwarning\u001b[0m\u001b[1;33m(\u001b[0m\u001b[1;34m\"Invalid Message:\"\u001b[0m\u001b[1;33m,\u001b[0m \u001b[0mexc_info\u001b[0m\u001b[1;33m=\u001b[0m\u001b[1;32mTrue\u001b[0m\u001b[1;33m)\u001b[0m\u001b[1;33m\u001b[0m\u001b[1;33m\u001b[0m\u001b[0m\n",
      "\u001b[1;31mKeyboardInterrupt\u001b[0m: Interrupted by user"
     ]
    }
   ],
   "source": [
    "f_ticket=20\n",
    "counter=0\n",
    "while f_ticket>0:\n",
    "    sold= int(input(\"How many do you want to buy?\\n\"))\n",
    "    counter=counter+1\n",
    "    if (f_ticket>4 and 1<=sold<=4):\n",
    "        print(\"Minimum :1 \\nMaximum:4\\n\")\n",
    "        nw_t=f_ticket-sold\n",
    "        f_ticket=nw_t\n",
    "        print( nw_t, \"tickets remaining\")\n",
    "        if(1<=f_ticket<=4):\n",
    "            print(\"Minimum :1 \\nMaximum:\",f_ticket)\n",
    "            nw_t=f_ticket-sold\n",
    "            f_ticket=nw_t\n",
    "            print( nw_t, \"tickets remaining\")\n",
    "    print(counter, \"sales transactions\")           \n",
    "    "
   ]
  },
  {
   "cell_type": "markdown",
   "metadata": {},
   "source": []
  }
 ],
 "metadata": {
  "kernelspec": {
   "display_name": "Python 3",
   "language": "python",
   "name": "python3"
  },
  "language_info": {
   "codemirror_mode": {
    "name": "ipython",
    "version": 3
   },
   "file_extension": ".py",
   "mimetype": "text/x-python",
   "name": "python",
   "nbconvert_exporter": "python",
   "pygments_lexer": "ipython3",
   "version": "3.8.3"
  }
 },
 "nbformat": 4,
 "nbformat_minor": 4
}
