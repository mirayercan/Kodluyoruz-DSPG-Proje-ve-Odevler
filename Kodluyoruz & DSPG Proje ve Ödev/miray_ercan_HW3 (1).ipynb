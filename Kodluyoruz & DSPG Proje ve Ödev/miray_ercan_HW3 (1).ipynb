{
 "cells": [
  {
   "cell_type": "code",
   "execution_count": 245,
   "metadata": {},
   "outputs": [],
   "source": [
    "\n",
    "dict_1={}\n",
    "def Counter(x):\n",
    "  l2=[] \n",
    "  for i in x:\n",
    "    for n in i:\n",
    "      l2.append(n)\n",
    " #print(l2)\n",
    "  dict_1.clear()\n",
    "  for item in l2:\n",
    "    if item in dict_1:\n",
    "      dict_1[item]+=1\n",
    "    else:\n",
    "      dict_1[item]=1\n",
    "  \n",
    "  print(dict_1)\n",
    "  \n",
    "        \n",
    "  "
   ]
  },
  {
   "cell_type": "code",
   "execution_count": 249,
   "metadata": {},
   "outputs": [
    {
     "name": "stdout",
     "output_type": "stream",
     "text": [
      "{'a': 3, 'b': 2, 'c': 1, 'd': 2}\n"
     ]
    }
   ],
   "source": [
    "l=[[\"a\",\"b\"],[\"a\",\"c\",\"d\"],[\"a\"],[\"b\",\"d\"]]\n",
    "Counter(l)"
   ]
  },
  {
   "cell_type": "code",
   "execution_count": 250,
   "metadata": {},
   "outputs": [
    {
     "name": "stdout",
     "output_type": "stream",
     "text": [
      "{'a': 3, 'b': 2, 'c': 1, 'd': 1}\n"
     ]
    }
   ],
   "source": [
    "L=[[\"a\",\"b\",\"c\"],\"a\",[\"a\",\"b\"],\"d\"]\n",
    "\n",
    "Counter(L)"
   ]
  },
  {
   "cell_type": "code",
   "execution_count": null,
   "metadata": {},
   "outputs": [],
   "source": []
  },
  {
   "cell_type": "code",
   "execution_count": null,
   "metadata": {},
   "outputs": [],
   "source": []
  }
 ],
 "metadata": {
  "kernelspec": {
   "display_name": "Python 3",
   "language": "python",
   "name": "python3"
  },
  "language_info": {
   "codemirror_mode": {
    "name": "ipython",
    "version": 3
   },
   "file_extension": ".py",
   "mimetype": "text/x-python",
   "name": "python",
   "nbconvert_exporter": "python",
   "pygments_lexer": "ipython3",
   "version": "3.8.3"
  }
 },
 "nbformat": 4,
 "nbformat_minor": 4
}
